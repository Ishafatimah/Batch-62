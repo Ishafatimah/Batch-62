{
 "cells": [
  {
   "cell_type": "code",
   "execution_count": 6,
   "metadata": {},
   "outputs": [
    {
     "name": "stdout",
     "output_type": "stream",
     "text": [
      "Ayesha\n",
      "Fareena\n",
      "Nimra\n",
      "Ada\n"
     ]
    }
   ],
   "source": [
    "names = ['Ayesha', 'Fareena', 'Nimra', 'Ada']\n",
    "for name in names:\n",
    "    print(name)"
   ]
  },
  {
   "cell_type": "code",
   "execution_count": 7,
   "metadata": {},
   "outputs": [
    {
     "name": "stdout",
     "output_type": "stream",
     "text": [
      "Ayesha good to see you.\n",
      "Fareena good to see you.\n",
      "Nimra good to see you.\n",
      "Ada good to see you.\n"
     ]
    }
   ],
   "source": [
    "for name in names:\n",
    "     print(f\"{name} good to see you.\")"
   ]
  },
  {
   "cell_type": "code",
   "execution_count": 8,
   "metadata": {},
   "outputs": [
    {
     "name": "stdout",
     "output_type": "stream",
     "text": [
      "Ferrari 488 pista  is my favourite car.\n",
      "Mercedes Benz GT is my favourite car.\n",
      "Porsche 911 is my favourite car.\n"
     ]
    }
   ],
   "source": [
    "transports = ['Ferrari 488 pista ', 'Mercedes Benz GT', 'Porsche 911']\n",
    "for transport in transports:\n",
    "    print(f'{transport} is my favourite car.')"
   ]
  },
  {
   "cell_type": "code",
   "execution_count": 9,
   "metadata": {},
   "outputs": [
    {
     "name": "stdout",
     "output_type": "stream",
     "text": [
      "Ayesha I want you to come at my house tomorrow for dinner.\n",
      "Fareena I want you to come at my house tomorrow for dinner.\n",
      "Nimra I want you to come at my house tomorrow for dinner.\n",
      "Ada I want you to come at my house tomorrow for dinner.\n"
     ]
    }
   ],
   "source": [
    "guest_list = ['Ayesha', 'Fareena', 'Nimra', 'Ada']\n",
    "for guest in guest_list:\n",
    "    print(f\"{guest} I want you to come at my house tomorrow for dinner.\")"
   ]
  },
  {
   "cell_type": "code",
   "execution_count": 10,
   "metadata": {},
   "outputs": [
    {
     "name": "stdout",
     "output_type": "stream",
     "text": [
      "Ayesha\n",
      "Zara I want you to come at my house tomorrow for dinner.\n",
      "Fareena I want you to come at my house tomorrow for dinner.\n",
      "Nimra I want you to come at my house tomorrow for dinner.\n",
      "Ada I want you to come at my house tomorrow for dinner.\n"
     ]
    }
   ],
   "source": [
    "guest_list = ['Ayesha', 'Fareena', 'Nimra', 'Ada']\n",
    "print(guest_list[0]) \n",
    "guest_list[0] = \"Zara\"\n",
    "for guest in guest_list:\n",
    "    print(f\"{guest} I want you to come at my house tomorrow for dinner.\")"
   ]
  },
  {
   "cell_type": "code",
   "execution_count": 11,
   "metadata": {},
   "outputs": [
    {
     "name": "stdout",
     "output_type": "stream",
     "text": [
      "Hira, I want you to come at my house tomorrow for dinner.\n",
      "Zara, I want you to come at my house tomorrow for dinner.\n",
      "Fareena, I want you to come at my house tomorrow for dinner.\n",
      "Sana, I want you to come at my house tomorrow for dinner.\n",
      "Nimra, I want you to come at my house tomorrow for dinner.\n",
      "Ada, I want you to come at my house tomorrow for dinner.\n",
      "Manal, I want you to come at my house tomorrow for dinner.\n"
     ]
    }
   ],
   "source": [
    "guest_list = ['Ayesha', 'Fareena', 'Nimra', 'Ada']\n",
    "guest_list[0] = \"Zara\"\n",
    "guest_list.insert(0,\"Hira\")\n",
    "guest_list.insert(3,\"Sana\")\n",
    "guest_list.append(\"Manal\")\n",
    "for guest in guest_list:\n",
    "    print(f\"{guest}, I want you to come at my house tomorrow for dinner.\")"
   ]
  },
  {
   "cell_type": "code",
   "execution_count": 12,
   "metadata": {},
   "outputs": [
    {
     "name": "stdout",
     "output_type": "stream",
     "text": [
      "I can Invite only two people.\n",
      "I am really sorry I can't invite you to dinner Manal.\n",
      "I am really sorry I can't invite you to dinner Ada.\n",
      "I am really sorry I can't invite you to dinner Nimra.\n",
      "I am really sorry I can't invite you to dinner Sana.\n",
      "I am really sorry I can't invite you to dinner Fareena.\n",
      "Hira you are still invited to the dinner.\n",
      "Zara you are still invited to the dinner.\n",
      "[]\n"
     ]
    }
   ],
   "source": [
    "guest_list = ['Ayesha', 'Fareena', 'Nimra', 'Ada']\n",
    "guest_list[0] = \"Zara\"\n",
    "guest_list.insert(0,\"Hira\")\n",
    "guest_list.insert(3,\"Sana\")\n",
    "guest_list.append(\"Manal\")\n",
    "print(\"I can Invite only two people.\")\n",
    "removed_guest = guest_list.pop() \n",
    "print(f\"I am really sorry I can't invite you to dinner {removed_guest}.\") \n",
    "removed_guest = guest_list.pop() \n",
    "print(f\"I am really sorry I can't invite you to dinner {removed_guest}.\") \n",
    "removed_guest = guest_list.pop() \n",
    "print(f\"I am really sorry I can't invite you to dinner {removed_guest}.\") \n",
    "removed_guest = guest_list.pop() \n",
    "print(f\"I am really sorry I can't invite you to dinner {removed_guest}.\") \n",
    "removed_guest = guest_list.pop() \n",
    "print(f\"I am really sorry I can't invite you to dinner {removed_guest}.\") \n",
    "for guest in guest_list: \n",
    "    print(f\"{guest} you are still invited to the dinner.\") \n",
    "del guest_list[:] \n",
    "print(guest_list) "
   ]
  },
  {
   "cell_type": "code",
   "execution_count": 13,
   "metadata": {},
   "outputs": [
    {
     "name": "stdout",
     "output_type": "stream",
     "text": [
      "Original order: ['Lionel Messi', 'Neymar Jr', 'Cristiano Ronaldo', 'Mohamed Salah']\n",
      "Alphabetical order: ['Cristiano Ronaldo', 'Lionel Messi', 'Mohamed Salah', 'Neymar Jr']\n",
      "Original order after sorted(): ['Lionel Messi', 'Neymar Jr', 'Cristiano Ronaldo', 'Mohamed Salah']\n",
      "Reverse alphabetical order: ['Neymar Jr', 'Mohamed Salah', 'Lionel Messi', 'Cristiano Ronaldo']\n",
      "Original order after reverse sorted(): ['Lionel Messi', 'Neymar Jr', 'Cristiano Ronaldo', 'Mohamed Salah']\n",
      "Order after reverse(): ['Mohamed Salah', 'Cristiano Ronaldo', 'Neymar Jr', 'Lionel Messi']\n",
      "Order after reversing again: ['Lionel Messi', 'Neymar Jr', 'Cristiano Ronaldo', 'Mohamed Salah']\n",
      "List after sort(): ['Cristiano Ronaldo', 'Lionel Messi', 'Mohamed Salah', 'Neymar Jr']\n",
      "List after reverse sort(): ['Neymar Jr', 'Mohamed Salah', 'Lionel Messi', 'Cristiano Ronaldo']\n"
     ]
    }
   ],
   "source": [
    "footballers = ['Lionel Messi', 'Neymar Jr', 'Cristiano Ronaldo', 'Mohamed Salah' ]\n",
    "\n",
    "print(\"Original order:\", footballers)\n",
    "\n",
    "print(\"Alphabetical order:\", sorted(footballers))\n",
    "\n",
    "print(\"Original order after sorted():\", footballers)\n",
    "\n",
    "print(\"Reverse alphabetical order:\", sorted(footballers, reverse=True))\n",
    "\n",
    "print(\"Original order after reverse sorted():\", footballers)\n",
    "\n",
    "footballers.reverse()\n",
    "print(\"Order after reverse():\", footballers)\n",
    "\n",
    "footballers.reverse()\n",
    "print(\"Order after reversing again:\", footballers)\n",
    "\n",
    "footballers.sort()\n",
    "print(\"List after sort():\", footballers)\n",
    "\n",
    "footballers.sort(reverse=True)\n",
    "print(\"List after reverse sort():\", footballers)"
   ]
  },
  {
   "cell_type": "code",
   "execution_count": 1,
   "metadata": {},
   "outputs": [
    {
     "name": "stdout",
     "output_type": "stream",
     "text": [
      "['Biology', 'Urdu', 'Maths', 'English']\n",
      "['Biology', 'Urdu', 'Maths', 'Chemistry']\n",
      "['Physics', 'Biology', 'Urdu', 'Pakstudies', 'Maths', 'Chemistry', 'Islamiat']\n",
      "['Biology', 'Urdu', 'Pakstudies', 'Maths']\n",
      "list in alphabetical order: ['Biology', 'Maths', 'Pakstudies', 'Urdu']\n",
      "list in reverse alphabetical order: ['Urdu', 'Pakstudies', 'Maths', 'Biology']\n",
      "['Maths', 'Pakstudies', 'Urdu', 'Biology']\n",
      "['Biology', 'Urdu', 'Pakstudies', 'Maths']\n",
      "['Biology', 'Maths', 'Pakstudies', 'Urdu']\n",
      "['Urdu', 'Pakstudies', 'Maths', 'Biology']\n",
      "['Pakstudies', 'Maths', 'Biology']\n",
      "[]\n"
     ]
    }
   ],
   "source": [
    "subjects = ['Biology', 'Urdu', 'Maths', 'English']\n",
    "print(subjects)\n",
    "#modifying list\n",
    "subjects[3] = 'Chemistry'\n",
    "print(subjects) \n",
    "#adding values to list\n",
    "subjects.insert(0, 'Physics') \n",
    "subjects.insert(3, 'Pakstudies') \n",
    "subjects.append('Islamiat') \n",
    "print(subjects)\n",
    "#removing values\n",
    "subjects.pop()\n",
    "subjects.pop(0) \n",
    "subjects.pop(-1) \n",
    "print(subjects)\n",
    "#sorting values\n",
    "print('list in alphabetical order:', sorted(subjects))\n",
    "print('list in reverse alphabetical order:', sorted(subjects, reverse= True))\n",
    "#sorting values\n",
    "subjects.reverse()\n",
    "print(subjects) \n",
    "subjects.reverse()\n",
    "print(subjects)\n",
    "#sorting values\n",
    "subjects.sort()\n",
    "print(subjects)\n",
    "subjects.sort(reverse=True)\n",
    "print(subjects)\n",
    "#deleting values\n",
    "del subjects[0] \n",
    "print(subjects) \n",
    "del subjects[:] \n",
    "print(subjects) "
   ]
  },
  {
   "cell_type": "code",
   "execution_count": 3,
   "metadata": {},
   "outputs": [
    {
     "name": "stdout",
     "output_type": "stream",
     "text": [
      "Accessing an out-of-range index:\n"
     ]
    },
    {
     "ename": "IndexError",
     "evalue": "list index out of range",
     "output_type": "error",
     "traceback": [
      "\u001b[1;31m---------------------------------------------------------------------------\u001b[0m",
      "\u001b[1;31mIndexError\u001b[0m                                Traceback (most recent call last)",
      "Cell \u001b[1;32mIn[3], line 4\u001b[0m\n\u001b[0;32m      1\u001b[0m countries \u001b[38;5;241m=\u001b[39m [\u001b[38;5;124m'\u001b[39m\u001b[38;5;124mGermany\u001b[39m\u001b[38;5;124m'\u001b[39m, \u001b[38;5;124m'\u001b[39m\u001b[38;5;124mspain\u001b[39m\u001b[38;5;124m'\u001b[39m, \u001b[38;5;124m'\u001b[39m\u001b[38;5;124mFrance\u001b[39m\u001b[38;5;124m'\u001b[39m, \u001b[38;5;124m'\u001b[39m\u001b[38;5;124mItay\u001b[39m\u001b[38;5;124m'\u001b[39m]\n\u001b[0;32m      3\u001b[0m \u001b[38;5;28mprint\u001b[39m(\u001b[38;5;124m\"\u001b[39m\u001b[38;5;124mAccessing an out-of-range index:\u001b[39m\u001b[38;5;124m\"\u001b[39m)\n\u001b[1;32m----> 4\u001b[0m \u001b[38;5;28mprint\u001b[39m(\u001b[43mcountries\u001b[49m\u001b[43m[\u001b[49m\u001b[38;5;241;43m10\u001b[39;49m\u001b[43m]\u001b[49m)  \n",
      "\u001b[1;31mIndexError\u001b[0m: list index out of range"
     ]
    }
   ],
   "source": [
    "countries = ['Germany', 'spain', 'France', 'Itay']\n",
    "\n",
    "print(\"Accessing an out-of-range index:\")\n",
    "print(countries[10])  "
   ]
  },
  {
   "cell_type": "code",
   "execution_count": 4,
   "metadata": {},
   "outputs": [
    {
     "name": "stdout",
     "output_type": "stream",
     "text": [
      "Index out of range.\n"
     ]
    }
   ],
   "source": [
    "if len(countries) > 10:\n",
    "    print(countries[10])\n",
    "else:\n",
    "    print(\"Index out of range.\")"
   ]
  }
 ],
 "metadata": {
  "kernelspec": {
   "display_name": "Python 3",
   "language": "python",
   "name": "python3"
  },
  "language_info": {
   "codemirror_mode": {
    "name": "ipython",
    "version": 3
   },
   "file_extension": ".py",
   "mimetype": "text/x-python",
   "name": "python",
   "nbconvert_exporter": "python",
   "pygments_lexer": "ipython3",
   "version": "3.12.5"
  }
 },
 "nbformat": 4,
 "nbformat_minor": 2
}
